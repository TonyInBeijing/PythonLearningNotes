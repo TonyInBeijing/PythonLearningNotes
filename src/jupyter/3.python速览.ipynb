{
 "cells": [
  {
   "cell_type": "markdown",
   "metadata": {},
   "source": [
    "# 3.Python 速览"
   ]
  },
  {
   "cell_type": "markdown",
   "metadata": {},
   "source": [
    "## 3.1 注释"
   ]
  },
  {
   "cell_type": "code",
   "execution_count": 1,
   "metadata": {},
   "outputs": [],
   "source": [
    "# python 注释\n",
    "# 这是第一条注释\n",
    "spam = 1 # 这是第二条注释\n",
    "text = \"# 这不是注释\""
   ]
  },
  {
   "cell_type": "markdown",
   "metadata": {},
   "source": [
    "## 3.2 数字"
   ]
  },
  {
   "cell_type": "code",
   "execution_count": 7,
   "metadata": {},
   "outputs": [
    {
     "name": "stdout",
     "output_type": "stream",
     "text": [
      "5.666666666666667\n",
      "5\n",
      "2\n",
      "25\n",
      "20 30\n",
      "14.0\n"
     ]
    },
    {
     "ename": "NameError",
     "evalue": "name 'n' is not defined",
     "output_type": "error",
     "traceback": [
      "\u001b[0;31m---------------------------------------------------------------------------\u001b[0m",
      "\u001b[0;31mNameError\u001b[0m                                 Traceback (most recent call last)",
      "Cell \u001b[0;32mIn[7], line 17\u001b[0m\n\u001b[1;32m     14\u001b[0m \u001b[38;5;66;03m# Python 全面支持浮点数；混合类型运算数的运算会把整数转换为浮点数：\u001b[39;00m\n\u001b[1;32m     15\u001b[0m \u001b[38;5;28mprint\u001b[39m(\u001b[38;5;241m3.75\u001b[39m \u001b[38;5;241m*\u001b[39m \u001b[38;5;241m4\u001b[39m \u001b[38;5;241m-\u001b[39m \u001b[38;5;241m1\u001b[39m)\n\u001b[0;32m---> 17\u001b[0m \u001b[38;5;28mprint\u001b[39m(\u001b[43mn\u001b[49m) \u001b[38;5;66;03m# name 'n' is not defined\u001b[39;00m\n",
      "\u001b[0;31mNameError\u001b[0m: name 'n' is not defined"
     ]
    }
   ],
   "source": [
    "print(17 / 3)  # 除法运算，总返回浮点数\n",
    "\n",
    "print(17 // 3)  # 向下取整数\n",
    "\n",
    "print(17 % 3)  # 取余数\n",
    "\n",
    "print(5**2)  # 乘方运算(5*5)\n",
    "\n",
    "width = 20\n",
    "height = 30  # = 赋值预算\n",
    "\n",
    "print(width, height)\n",
    "\n",
    "# Python 全面支持浮点数；混合类型运算数的运算会把整数转换为浮点数：\n",
    "print(3.75 * 4 - 1)\n",
    "\n",
    "print(n) # name 'n' is not defined"
   ]
  },
  {
   "cell_type": "markdown",
   "metadata": {},
   "source": [
    "## 3.3 文本"
   ]
  },
  {
   "cell_type": "code",
   "execution_count": 30,
   "metadata": {},
   "outputs": [
    {
     "name": "stdout",
     "output_type": "stream",
     "text": [
      "<class 'str'>\n",
      "C:\\some\n",
      "ame\n",
      "C:\\some\\name\n",
      "Usage: thingy [OPTIONS]\n",
      "     -h                        Display this usage message\n",
      "     -H hostname               Hostname to connect to\n",
      "\n",
      "abcdef\n",
      "aaabbb\n",
      "Python\n",
      "Put several strings within parentheses to have them joined together.\n",
      "a\n",
      "f\n",
      "f\n",
      "True\n",
      "ab\n",
      "ab\n",
      "cdef\n",
      "abcdef\n"
     ]
    },
    {
     "name": "stderr",
     "output_type": "stream",
     "text": [
      "<>:12: SyntaxWarning: invalid escape sequence '\\s'\n",
      "<>:12: SyntaxWarning: invalid escape sequence '\\s'\n",
      "/tmp/ipykernel_331224/2423843941.py:12: SyntaxWarning: invalid escape sequence '\\s'\n",
      "  print(\"C:\\some\\name\")\n",
      "/tmp/ipykernel_331224/2423843941.py:12: SyntaxWarning: invalid escape sequence '\\s'\n",
      "  print(\"C:\\some\\name\")\n"
     ]
    },
    {
     "ename": "IndexError",
     "evalue": "string index out of range",
     "output_type": "error",
     "traceback": [
      "\u001b[0;31m---------------------------------------------------------------------------\u001b[0m",
      "\u001b[0;31mIndexError\u001b[0m                                Traceback (most recent call last)",
      "Cell \u001b[0;32mIn[30], line 53\u001b[0m\n\u001b[1;32m     50\u001b[0m \u001b[38;5;66;03m# 索引越界会报错，切片会处理越界\u001b[39;00m\n\u001b[1;32m     52\u001b[0m \u001b[38;5;28mprint\u001b[39m(text[:\u001b[38;5;241m100\u001b[39m]) \u001b[38;5;66;03m# abcdef\u001b[39;00m\n\u001b[0;32m---> 53\u001b[0m \u001b[38;5;28mprint\u001b[39m(\u001b[43mtext\u001b[49m\u001b[43m[\u001b[49m\u001b[38;5;241;43m100\u001b[39;49m\u001b[43m]\u001b[49m) \u001b[38;5;66;03m# 报错\u001b[39;00m\n\u001b[1;32m     55\u001b[0m \u001b[38;5;66;03m# len() 返回字符串长度\u001b[39;00m\n\u001b[1;32m     56\u001b[0m \u001b[38;5;28mprint\u001b[39m(\u001b[38;5;28mlen\u001b[39m(text)) \u001b[38;5;66;03m# 5\u001b[39;00m\n",
      "\u001b[0;31mIndexError\u001b[0m: string index out of range"
     ]
    }
   ],
   "source": [
    "# 文本使用 str 表示，使用 \"\" 或 '' 标示\n",
    "\n",
    "text1 = \"t\"  # 单个字母\n",
    "\n",
    "text2 = \"This is a sentence\"  # 句子\n",
    "\n",
    "text3 = \"1995\"  # 数字使用引号也是文本\n",
    "\n",
    "print(type(text3))\n",
    "\n",
    "# \\ 转义符号\n",
    "print(\"C:\\some\\name\")\n",
    "\n",
    "print(r\"C:\\some\\name\")  # r 表示打印原始字符串\n",
    "\n",
    "# \"\"\"...\"\"\" 或 '''...'''表示多行文本\n",
    "print(\n",
    "    \"\"\"\\\n",
    "Usage: thingy [OPTIONS]\n",
    "     -h                        Display this usage message\n",
    "     -H hostname               Hostname to connect to\n",
    "\"\"\"\n",
    ")\n",
    "\n",
    "# 字符串可以用 + 合并，用 * 重复\n",
    "print(\"abc\" + \"def\")\n",
    "print(\"a\" * 3 + \"b\" * 3)\n",
    "\n",
    "# 相邻两个或多个字符串字面值自动合并\n",
    "print(\"Py\" \"thon\")\n",
    "text = \"Put several strings within parentheses \" \"to have them joined together.\"\n",
    "print(text)\n",
    "\n",
    "# 字符串支持索引\n",
    "text = \"abcdef\"\n",
    "print(text[0])\n",
    "print(text[5])\n",
    "\n",
    "# 索引支持负数，负数索引从右向左计数\n",
    "print(text[-1])\n",
    "print(text[5] == text[-1])\n",
    "\n",
    "# 字符串支持切片,含前不含后\n",
    "print(text[0:2])  # 从 0 号位 (含) 到 2 号位 (不含) 的字符\n",
    "\n",
    "print(text[:2]) # 前面省略默认从 0 号位开始\n",
    "\n",
    "print(text[2:]) # 后面省略默认到结束为止\n",
    "\n",
    "# 索引越界会报错，切片会处理越界\n",
    "\n",
    "print(text[:100]) # abcdef\n",
    "print(text[100]) # 报错\n",
    "\n",
    "# len() 返回字符串长度\n",
    "print(len(text)) # 5\n"
   ]
  },
  {
   "cell_type": "markdown",
   "metadata": {},
   "source": [
    "## 3.4 列表"
   ]
  },
  {
   "cell_type": "code",
   "execution_count": 42,
   "metadata": {},
   "outputs": [
    {
     "name": "stdout",
     "output_type": "stream",
     "text": [
      "[1, 2, 3, 4, 5]\n",
      "2\n",
      "[1, 2]\n",
      "[1, 2, 3, 4, 5, 6, 7, 8]\n",
      "[1, 10, 3, 4, 5, 6, 7, 8]\n",
      "[1, 10, 3, 4, 5, 6, 7, 8, 9]\n",
      "True\n",
      "['Red', 'Green', 'Blue', 'Alph']\n",
      "['Red', 'Green', 'Blue', 'Alpha']\n",
      "['Red', 'Green', 'Blue', 'Alph']\n",
      "['Red', 'Alph']\n",
      "[]\n",
      "4\n"
     ]
    }
   ],
   "source": [
    "# 列表 list 可包含不同类型元素，但大多数情况元素类型相同\n",
    "\n",
    "list = [1, 2, 3, 4, 5]\n",
    "print(list)  # [1,2,3,4,5]\n",
    "\n",
    "# 列表也支持索引和切片\n",
    "\n",
    "print(list[1])  # 2\n",
    "print(list[:2])  # [1,2]\n",
    "\n",
    "# list 支持合并操作\n",
    "list = list + [6, 7, 8]\n",
    "print(list)\n",
    "\n",
    "# 列表是 mutable 类型\n",
    "list[1] = 10\n",
    "print(list)\n",
    "\n",
    "# 可以通过 append 方法在 list 末尾增加元素\n",
    "list.append(9)\n",
    "print(list)\n",
    "\n",
    "# Python 中的简单赋值绝不会复制数据。 当你将一个列表赋值给一个变量时，该变量将引用 现有的列表。你通过一个变量对列表所做的任何更改都会被引用它的所有其他变量看到\n",
    "\n",
    "rgb = [\"Red\", \"Green\", \"Blue\"]\n",
    "rgba = rgb\n",
    "\n",
    "print(id(rgb) == id(rgba))  # True\n",
    "\n",
    "rgb.append(\"Alph\")\n",
    "\n",
    "print(rgba)  # ['Red', 'Green', 'Blue', 'Alpha']\n",
    "\n",
    "# 切片操作返回包含请求元素的新列表，返回列表的浅拷贝\n",
    "correct_rgba = rgba[0:]\n",
    "correct_rgba[-1] = \"Alpha\"\n",
    "print(correct_rgba)  # ['Red', 'Green', 'Blue', 'Alpha']\n",
    "print(rgba)  # ['Red', 'Green', 'Blue', 'Alph']\n",
    "\n",
    "# 切片赋值可以改变大小或清空列表\n",
    "\n",
    "rgba[1:3] = []\n",
    "print(rgba)  # ['Red', 'Alph']\n",
    "rgba[0:] = []\n",
    "print(rgba)  # []\n",
    "\n",
    "# len() 函数也支持列表\n",
    "print(len(correct_rgba)) # 4"
   ]
  },
  {
   "cell_type": "code",
   "execution_count": null,
   "metadata": {},
   "outputs": [],
   "source": []
  }
 ],
 "metadata": {
  "kernelspec": {
   "display_name": "python-learning",
   "language": "python",
   "name": "python3"
  },
  "language_info": {
   "codemirror_mode": {
    "name": "ipython",
    "version": 3
   },
   "file_extension": ".py",
   "mimetype": "text/x-python",
   "name": "python",
   "nbconvert_exporter": "python",
   "pygments_lexer": "ipython3",
   "version": "3.13.0"
  }
 },
 "nbformat": 4,
 "nbformat_minor": 2
}
