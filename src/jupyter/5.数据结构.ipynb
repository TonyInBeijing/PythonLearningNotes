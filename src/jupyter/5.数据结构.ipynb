{
 "cells": [
  {
   "cell_type": "markdown",
   "metadata": {},
   "source": [
    "# 数据结构"
   ]
  },
  {
   "cell_type": "markdown",
   "metadata": {},
   "source": [
    "## 列表"
   ]
  },
  {
   "cell_type": "code",
   "execution_count": 23,
   "metadata": {},
   "outputs": [
    {
     "name": "stdout",
     "output_type": "stream",
     "text": [
      "[1, 2, 3, 4]\n",
      "[1, 2, 3, 4, 4]\n",
      "[1, 2, 3, 5, 4, 4]\n",
      "[1, 2, 3, 4, 4]\n",
      "[1, 2, 3, 4]\n",
      "[]\n",
      "[0, 1, 2, 3, 4, 4] 2 4\n",
      "[4, 4, 3, 2, 1, 0]\n",
      "False\n"
     ]
    }
   ],
   "source": [
    "listA = [1, 2, 3]\n",
    "\n",
    "listA.append(4)\n",
    "\n",
    "print(listA)  # [1,2,3,4]\n",
    "\n",
    "listA.extend([4])\n",
    "\n",
    "print(listA)  # [1,2,3,4,4]\n",
    "\n",
    "listA.insert(3, 5)\n",
    "\n",
    "print(listA)  # [1, 2, 3, 5, 4, 4]\n",
    "\n",
    "listA.remove(5)\n",
    "\n",
    "print(listA)  # [1, 2, 3, 4, 4]\n",
    "\n",
    "listA.pop(3)\n",
    "print(listA)  # [1, 2, 3, 4]\n",
    "\n",
    "listA.clear()\n",
    "print(listA)  # []\n",
    "\n",
    "listA.extend(range(5))\n",
    "listA.append(4)\n",
    "print(listA, listA.count(4), listA.index(4))  # [0, 1, 2, 3, 4, 4] 2 4\n",
    "\n",
    "listA.sort(reverse=True)\n",
    "print(listA)  # [4, 4, 3, 2, 1, 0]\n",
    "\n",
    "listB = listA.copy()\n",
    "print(id(listB) == id(listA))  # False"
   ]
  },
  {
   "cell_type": "code",
   "execution_count": 25,
   "metadata": {},
   "outputs": [
    {
     "name": "stdout",
     "output_type": "stream",
     "text": [
      "[0, 1, 4, 9, 16, 25, 36, 49, 64, 81]\n",
      "[0, 1, 4, 9, 16, 25, 36, 49, 64, 81]\n"
     ]
    }
   ],
   "source": [
    "# 5.1.3列表推导式\n",
    "\n",
    "\n",
    "def setList():\n",
    "    \"\"\"\n",
    "    列表推导式创建列表的方式更简洁。\n",
    "    常见的用法为，对序列或可迭代对象中的每个元素应用某种操作，用生成的结果创建新的列表；或用满足特定条件的元素创建子序列。\n",
    "    \"\"\"\n",
    "    squares = []\n",
    "\n",
    "    # 写法1\n",
    "    for x in range(10):\n",
    "        squares.append(x**2)\n",
    "\n",
    "    print(squares)\n",
    "\n",
    "    # 写法2\n",
    "\n",
    "    squares.clear()\n",
    "\n",
    "    squares = [x**2 for x in range(10)]\n",
    "\n",
    "    print(squares)\n",
    "\n",
    "\n",
    "setList()"
   ]
  },
  {
   "cell_type": "code",
   "execution_count": 28,
   "metadata": {},
   "outputs": [
    {
     "name": "stdout",
     "output_type": "stream",
     "text": [
      "[2, 3, 4, 5]\n",
      "[4, 5]\n"
     ]
    }
   ],
   "source": [
    "# 5.2 del 语句\n",
    "\n",
    "listA = [1, 2, 3, 4, 5]\n",
    "\n",
    "del listA[0]\n",
    "\n",
    "print(listA)  # [2, 3, 4, 5]\n",
    "\n",
    "del listA[:2]\n",
    "\n",
    "print(listA)  # [4,5]"
   ]
  },
  {
   "cell_type": "code",
   "execution_count": 32,
   "metadata": {},
   "outputs": [
    {
     "name": "stdout",
     "output_type": "stream",
     "text": [
      "3\n",
      "((1, 2, 3, 4), (5, 6, 7, 8))\n",
      "1\n"
     ]
    }
   ],
   "source": [
    "# 5.3 元组和序列\n",
    "\n",
    "# 元组使用逗号,隔开,不可变的\n",
    "\n",
    "tupleA = 1, 2, 3, 4\n",
    "print(tupleA[2])  # 3\n",
    "\n",
    "tupleB = tupleA, (5, 6, 7, 8)\n",
    "print(tupleB)  # ((1, 2, 3, 4), (5, 6, 7, 8))\n",
    "print(tupleB[0][0])  # 1"
   ]
  },
  {
   "cell_type": "code",
   "execution_count": 37,
   "metadata": {},
   "outputs": [
    {
     "name": "stdout",
     "output_type": "stream",
     "text": [
      "True\n",
      "set()\n",
      "{'c', 'a', 'b', 'r', 'd'}\n",
      "{'b', 'r', 'd'}\n",
      "{'c', 'm', 'a', 'b', 'l', 'z', 'r', 'd'}\n",
      "{'c', 'a'}\n",
      "{'b', 'm', 'd', 'z', 'r', 'l'}\n"
     ]
    }
   ],
   "source": [
    "# 5.4 集合\n",
    "\n",
    "# 集合是由不重复元素组成的无序容器。基本用法包括成员检测、消除重复元素。集合对象支持合集、交集、差集、对称差分等数学运算。\n",
    "\n",
    "collectionA = {\"a\", \"b\", \"c\"}\n",
    "\n",
    "print(\"a\" in collectionA)\n",
    "\n",
    "# 创建集合用花括号或 set() 函数。注意，创建空集合只能用 set()，不能用 {}，{} 创建的是空字典\n",
    "\n",
    "collectionB = set()\n",
    "\n",
    "print(collectionB)\n",
    "\n",
    "a = set(\"abracadabra\")\n",
    "b = set(\"alacazam\")\n",
    "print(a)  # a 中独有的字母\n",
    "print(a - b)  # 存在于 a 中但不存在于 b 中的字母\n",
    "print(a | b)  # 存在于 a 或 b 中或两者中皆有的字母\n",
    "print(a & b)  # 同时存在于 a 和 b 中的字母\n",
    "print(a ^ b)  # 存在于 a 或 b 中但非两者中皆有的字母"
   ]
  },
  {
   "cell_type": "code",
   "execution_count": 42,
   "metadata": {},
   "outputs": [
    {
     "name": "stdout",
     "output_type": "stream",
     "text": [
      "{'a': 1, 'b': 2, 'c': 3}\n",
      "True\n",
      "{0: 0, 1: 1, 2: 4, 3: 9, 4: 16}\n",
      "a 1\n",
      "b 2\n",
      "c 3\n"
     ]
    }
   ],
   "source": [
    "# 5.5 字典\n",
    "\n",
    "dictA = dict([(\"a\", 1), (\"b\", 2), (\"c\", 3)])\n",
    "\n",
    "print(dictA)\n",
    "\n",
    "dictB = {\"a\": 1, \"b\": 2, \"c\": 3}\n",
    "\n",
    "print(dictA == dictB)\n",
    "\n",
    "# 字典推导式\n",
    "\n",
    "print({x: x**2 for x in range(5)})\n",
    "\n",
    "# 字典循环\n",
    "\n",
    "for k,v in dictA.items():\n",
    "    print(k,v)\n",
    "    \n"
   ]
  },
  {
   "cell_type": "code",
   "execution_count": null,
   "metadata": {},
   "outputs": [],
   "source": []
  }
 ],
 "metadata": {
  "kernelspec": {
   "display_name": "python-learning",
   "language": "python",
   "name": "python3"
  },
  "language_info": {
   "codemirror_mode": {
    "name": "ipython",
    "version": 3
   },
   "file_extension": ".py",
   "mimetype": "text/x-python",
   "name": "python",
   "nbconvert_exporter": "python",
   "pygments_lexer": "ipython3",
   "version": "3.13.0"
  }
 },
 "nbformat": 4,
 "nbformat_minor": 2
}
