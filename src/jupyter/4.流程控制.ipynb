{
 "cells": [
  {
   "cell_type": "markdown",
   "metadata": {},
   "source": [
    "# 4.流程控制"
   ]
  },
  {
   "cell_type": "markdown",
   "metadata": {},
   "source": [
    "## 4.1 while 循环"
   ]
  },
  {
   "cell_type": "code",
   "execution_count": 1,
   "metadata": {},
   "outputs": [
    {
     "name": "stdout",
     "output_type": "stream",
     "text": [
      "0\n",
      "1\n",
      "1\n",
      "2\n",
      "3\n",
      "5\n",
      "8\n"
     ]
    }
   ],
   "source": [
    "a, b = 0, 1\n",
    "while a < 10:\n",
    "    print(a)\n",
    "    a, b = b, a + b"
   ]
  },
  {
   "cell_type": "markdown",
   "metadata": {},
   "source": [
    "## 4.2 if 语句"
   ]
  },
  {
   "cell_type": "code",
   "execution_count": 2,
   "metadata": {},
   "outputs": [
    {
     "name": "stdout",
     "output_type": "stream",
     "text": [
      "More\n"
     ]
    }
   ],
   "source": [
    "x = int(input(\"Please enter an integer: \"))\n",
    "\n",
    "if x < 0:\n",
    "    x = 0\n",
    "    print(\"Negative changed to zero\")\n",
    "elif x == 0:\n",
    "    print(\"Zero\")\n",
    "elif x == 1:\n",
    "    print(\"Single\")\n",
    "else:\n",
    "    print(\"More\")"
   ]
  },
  {
   "cell_type": "markdown",
   "metadata": {},
   "source": [
    "## 4.3 for 语句"
   ]
  },
  {
   "cell_type": "code",
   "execution_count": 14,
   "metadata": {},
   "outputs": [
    {
     "name": "stdout",
     "output_type": "stream",
     "text": [
      "cat 3\n",
      "window 6\n",
      "defenestrate 12\n",
      "Hans active\n",
      "Éléonore inactive\n",
      "景太郎 active\n",
      "{'Hans': 'active', '景太郎': 'active'}\n",
      "0\n",
      "1\n",
      "2\n",
      "3\n",
      "4\n",
      "5\n",
      "6\n",
      "7\n",
      "8\n",
      "9\n",
      "0 Mary\n",
      "1 had\n",
      "2 a\n",
      "3 little\n",
      "4 lamb\n",
      "0 Mary\n",
      "1 had\n",
      "2 a\n",
      "3 little\n",
      "4 lamb\n"
     ]
    }
   ],
   "source": [
    "# 遍历数组\n",
    "words = [\"cat\", \"window\", \"defenestrate\"]\n",
    "for word in words:\n",
    "    print(word, len(word))\n",
    "\n",
    "# 遍历对象\n",
    "users = {\"Hans\": \"active\", \"Éléonore\": \"inactive\", \"景太郎\": \"active\"}\n",
    "\n",
    "for user, status in users.copy().items():\n",
    "    print(user, status)\n",
    "    if status == \"inactive\":\n",
    "        del users[user]\n",
    "\n",
    "print(users)\n",
    "\n",
    "# range(start,end,step) 函数\n",
    "\n",
    "for num in range(0, 10, 1):\n",
    "    print(num)\n",
    "\n",
    "a = [\"Mary\", \"had\", \"a\", \"little\", \"lamb\"]\n",
    "\n",
    "for i in range(len(a)):\n",
    "    print(i, a[i])\n",
    "\n",
    "# 可以使用 enumerate()\n",
    "for i, v in enumerate(a):\n",
    "    print(i, v)"
   ]
  },
  {
   "cell_type": "markdown",
   "metadata": {},
   "source": [
    "## 4.4 break 和 continue 语句"
   ]
  },
  {
   "cell_type": "code",
   "execution_count": 20,
   "metadata": {},
   "outputs": [
    {
     "name": "stdout",
     "output_type": "stream",
     "text": [
      "4 equals 2 * 2\n",
      "6 equals 2 * 3\n",
      "8 equals 2 * 4\n",
      "9 equals 3 * 3\n",
      "Found an even number 2\n",
      "Found an odd number 2\n",
      "Found an odd number 3\n",
      "Found an even number 4\n",
      "Found an odd number 4\n",
      "Found an odd number 5\n",
      "Found an even number 6\n",
      "Found an odd number 6\n",
      "Found an odd number 7\n",
      "Found an even number 8\n",
      "Found an odd number 8\n",
      "Found an odd number 9\n"
     ]
    }
   ],
   "source": [
    "# break 语句跳出最近的一层 for 或者 while 语句\n",
    "for n in range(2, 10):\n",
    "    for x in range(2, n):\n",
    "        if n % x == 0:\n",
    "            print(f\"{n} equals {x} * {n//x}\")\n",
    "            break  # 跳出 for x in range(2,n):\n",
    "\n",
    "# continue 语句将继续执行循环的下一次迭代\n",
    "for num in range(2, 10):\n",
    "    if num % 2 == 0:\n",
    "        print(f\"Found an even number {num}\")\n",
    "        continue\n",
    "    print(f\"Found an odd number {num}\")"
   ]
  },
  {
   "cell_type": "markdown",
   "metadata": {},
   "source": [
    "## 4.5 循环的 else 语句"
   ]
  },
  {
   "cell_type": "code",
   "execution_count": 24,
   "metadata": {},
   "outputs": [
    {
     "name": "stdout",
     "output_type": "stream",
     "text": [
      "2 is a prime number\n",
      "3 is a prime number\n",
      "4 equals 2 * 2\n",
      "5 is a prime number\n",
      "6 equals 2 * 3\n",
      "7 is a prime number\n",
      "8 equals 2 * 4\n",
      "9 equals 3 * 3\n"
     ]
    }
   ],
   "source": [
    "for n in range(2, 10):\n",
    "    for x in range(2, n):\n",
    "        if n % x == 0:\n",
    "            print(n, \"equals\", x, \"*\", n // x)\n",
    "            break\n",
    "    else:\n",
    "        print(n, \"is a prime number\")"
   ]
  },
  {
   "cell_type": "markdown",
   "metadata": {},
   "source": [
    "# 4.6 pass 语句"
   ]
  },
  {
   "cell_type": "code",
   "execution_count": null,
   "metadata": {},
   "outputs": [],
   "source": [
    "# pass 语句不执行任何操作，语法上需要一个语句，但程序需执行任何动作时，可以使用该语句\n",
    "\n",
    "while True:\n",
    "    pass  # 无限等待键盘中断\n",
    "\n",
    "\n",
    "class MyEmptyClass:\n",
    "    pass  # 创建最小的类\n",
    "\n",
    "\n",
    "def initlog(*args):\n",
    "    pass"
   ]
  },
  {
   "cell_type": "markdown",
   "metadata": {},
   "source": [
    "## 4.7 match 语句"
   ]
  },
  {
   "cell_type": "code",
   "execution_count": null,
   "metadata": {},
   "outputs": [],
   "source": [
    "# 类似于 js 中的 case-when 语句\n",
    "def http_error(status):\n",
    "    match status:\n",
    "        case 400:\n",
    "            return \"Bad Request\"\n",
    "        case 404:\n",
    "            return \"Not Found\"\n",
    "        case 500 | 502:\n",
    "            return \"Default Error\"\n",
    "        case _:\n",
    "            return \"Unknown Error\""
   ]
  },
  {
   "cell_type": "markdown",
   "metadata": {},
   "source": [
    "## 4.8 定义函数"
   ]
  },
  {
   "cell_type": "code",
   "execution_count": 2,
   "metadata": {},
   "outputs": [
    {
     "name": "stdout",
     "output_type": "stream",
     "text": [
      "0112358\n"
     ]
    }
   ],
   "source": [
    "def fib(n):\n",
    "    \"\"\"Print a Fibonacci series less than n.\"\"\"  # docstring 文档字符串\n",
    "    a, b = 0, 1\n",
    "    while a < n:\n",
    "        print(a, end=\"\")\n",
    "        a, b = b, a + b\n",
    "    print()\n",
    "\n",
    "\n",
    "fib(10)  # 调用"
   ]
  },
  {
   "cell_type": "markdown",
   "metadata": {},
   "source": [
    "> 函数内的第一条语句是字符串时，该字符串就是文档字符串，也称为 docstring，详见 文档字符串。利用文档字符串可以自动生成在线文档或打印版文档，还可以让开发者在浏览代码时直接查阅文档；Python 开发者最好养成在代码中加入文档字符串的好习惯。\n",
    "\n",
    "> 函数在 *执行* 时使用函数局部变量符号表，所有函数变量赋值都存在局部符号表中；引用变量时，首先，在局部符号表里查找变量，然后，是外层函数局部符号表，再是全局符号表，最后是内置名称符号表。因此，尽管可以引用全局变量和外层函数的变量，但最好不要在函数内直接赋值（除非是 global 语句定义的全局变量，或 nonlocal 语句定义的外层函数变量）。\n",
    "\n",
    "> 在调用函数时会将实际参数（实参）引入到被调用函数的局部符号表中；因此，实参是使用 *按值调用* 来传递的（其中的 *值* 始终是对象的 *引用* 而不是对象的值）。 [1] 当一个函数调用另外一个函数时，会为该调用创建一个新的局部符号表。\n",
    "\n",
    "> 函数定义在当前符号表中把函数名与函数对象关联在一起。解释器把函数名指向的对象作为用户自定义函数。还可以使用其他名称指向同一个函数对象，并访问访该函数：\n",
    "\n",
    "> return 语句返回函数的值。return 语句不带表达式参数时，返回 None。函数执行完毕退出也返回 None。"
   ]
  },
  {
   "cell_type": "markdown",
   "metadata": {},
   "source": [
    "## 4.9 函数定义详解"
   ]
  },
  {
   "cell_type": "code",
   "execution_count": 6,
   "metadata": {},
   "outputs": [
    {
     "name": "stdout",
     "output_type": "stream",
     "text": [
      "6\n"
     ]
    }
   ],
   "source": [
    "# 默认值参数\n",
    "\n",
    "\n",
    "def ask_ok(prompt, retries=4, reminder=\"Please try again\"):\n",
    "    while True:\n",
    "        reply = input(prompt)\n",
    "        if reply in {\"y\", \"ye\", \"yes\"}:\n",
    "            return True\n",
    "        if reply in {\"n\", \"no\", \"nop\", \"nope\"}:\n",
    "            return False\n",
    "        retries = retries - 1\n",
    "        if retries < 0:\n",
    "            raise ValueError(\"invalid user response\")\n",
    "        print(reminder)\n",
    "\n",
    "\n",
    "# 以下调用方法皆可\n",
    "ask_ok(\"aaa\")\n",
    "ask_ok(\"aaa\", 5)\n",
    "ask_ok(\"aaa\", 5, \"bbb\")\n",
    "\n",
    "# 默认值在 定义 作用域里的函数定义中求值\n",
    "i = 5\n",
    "\n",
    "\n",
    "def f(arg=i):\n",
    "    print(arg)\n",
    "\n",
    "\n",
    "i = 6\n",
    "f()  # 5"
   ]
  },
  {
   "cell_type": "code",
   "execution_count": 16,
   "metadata": {},
   "outputs": [
    {
     "name": "stdout",
     "output_type": "stream",
     "text": [
      "-- This parrot wouldn't voom if you put 1000 volts through it.\n",
      "-- Lovely plumage, the Norwegian Blue\n",
      "-- It's a stiff !\n",
      "-- This parrot wouldn't voom if you put 1000 volts through it.\n",
      "-- Lovely plumage, the Norwegian Blue\n",
      "-- It's aaa !\n",
      "-- This parrot wouldn't bbb if you put 1000 volts through it.\n",
      "-- Lovely plumage, the Norwegian Blue\n",
      "-- It's a stiff !\n",
      "aaa\n",
      "*arguments::bbb\n",
      "*arguments::ccc\n",
      "**keywords:::ddd:ddd\n",
      "**keywords:::eee:eee\n"
     ]
    }
   ],
   "source": [
    "# 关键字参数\n",
    "\n",
    "\n",
    "def parrot(voltage, state=\"a stiff\", action=\"voom\", type=\"Norwegian Blue\"):\n",
    "    print(\"-- This parrot wouldn't\", action, end=\" \")\n",
    "    print(\"if you put\", voltage, \"volts through it.\")\n",
    "    print(\"-- Lovely plumage, the\", type)\n",
    "    print(\"-- It's\", state, \"!\")\n",
    "\n",
    "\n",
    "# 以下方式调用皆可\n",
    "parrot(1000)  # 1个位置参数\n",
    "parrot(1000, state=\"aaa\")  # 1个位置参数 + 1个关键字参数\n",
    "parrot(voltage=1000, action=\"bbb\")  # 2个关键字参数\n",
    "\n",
    "\"\"\"\n",
    "    函数调用时，关键字参数必须跟在位置参数后面。\n",
    "    所有传递的关键字参数都必须匹配一个函数接受的参数（比如，actor 不是函数 parrot 的有效参数），关键字参数的顺序并不重要。\n",
    "    这也包括必选参数，（比如，parrot(voltage=1000) 也有效）。\n",
    "    不能对同一个参数多次赋值，下面就是一个因此限制而失败的例子：\n",
    "\"\"\"\n",
    "\n",
    "# **name 接收一个字典,*name接收一个元组\n",
    "\n",
    "\n",
    "def cheeseshop(kind, *arguments, **keywords):\n",
    "    print(kind)\n",
    "    for arg in arguments:\n",
    "        print(f\"*arguments::{arg}\")\n",
    "    for kw in keywords:\n",
    "        print(f\"**keywords:::{kw}:{keywords[kw]}\")\n",
    "\n",
    "\n",
    "cheeseshop(\"aaa\", \"bbb\", \"ccc\", ddd=\"ddd\", eee=\"eee\")"
   ]
  },
  {
   "cell_type": "code",
   "execution_count": null,
   "metadata": {},
   "outputs": [],
   "source": [
    "# 4.9.3 特殊参数\n",
    "\n",
    "def f(pos1,pos2,/pos_or_kw,*,kw1,kw2):\n",
    "    pass\n",
    "\n",
    "# pos1,pos2 - 仅限位置参数\n",
    "# pos_or_kw - 位置或关键字参数\n",
    "# kw1,kw2 - 仅限关键字参数"
   ]
  },
  {
   "cell_type": "code",
   "execution_count": 21,
   "metadata": {},
   "outputs": [
    {
     "name": "stdout",
     "output_type": "stream",
     "text": [
      "2\n",
      "3\n",
      "[(4, 'four'), (1, 'one'), (3, 'three'), (2, 'two')]\n"
     ]
    }
   ],
   "source": [
    "# 4.9.6 lambda 表达式\n",
    "\n",
    "\n",
    "def make_incrementor(n):\n",
    "    \"\"\"\n",
    "    lambda 关键字用于创建小巧的匿名函数。\n",
    "    lambda a, b: a+b 函数返回两个参数的和。\n",
    "    Lambda 函数可用于任何需要函数对象的地方。\n",
    "    在语法上，匿名函数只能是单个表达式。\n",
    "    在语义上，它只是常规函数定义的语法糖。\n",
    "    与嵌套函数定义一样，lambda 函数可以引用包含作用域中的变量：\n",
    "    \"\"\"\n",
    "    return lambda x: x + n\n",
    "\n",
    "\n",
    "res = make_incrementor(1)\n",
    "print(res(1))\n",
    "print(res(2))\n",
    "\n",
    "# 可以当做匿名函数使用\n",
    "\n",
    "pairs = [(1, \"one\"), (2, \"two\"), (3, \"three\"), (4, \"four\")]\n",
    "\n",
    "pairs.sort(key=lambda pair: pair[1])  # 根据英文首字母排序\n",
    "\n",
    "print(pairs)  # [(4, 'four'), (1, 'one'), (3, 'three'), (2, 'two')]"
   ]
  },
  {
   "cell_type": "code",
   "execution_count": 22,
   "metadata": {},
   "outputs": [
    {
     "name": "stdout",
     "output_type": "stream",
     "text": [
      "Annotations:: {'ham': <class 'str'>, 'eggs': <class 'str'>, 'return': <class 'str'>}\n",
      "Arguments:: ham eggsssss\n"
     ]
    },
    {
     "data": {
      "text/plain": [
       "'ham and eggsssss'"
      ]
     },
     "execution_count": 22,
     "metadata": {},
     "output_type": "execute_result"
    }
   ],
   "source": [
    "# 4.9.8 函数注解\n",
    "def f(ham: str, eggs: str = \"eggs\") -> str:\n",
    "    \"\"\"\n",
    "    标注 以字典的形式存放在函数的 __annotations__ 属性中而对函数的其他部分没有影响。\n",
    "    形参标注的定义方式是在形参名后加冒号，后面跟一个会被求值为标注的值的表达式。\n",
    "    返回值标注的定义方式是加组合符号 ->，后面跟一个表达式，这样的校注位于形参列表和表示 def 语句结束的冒号。\n",
    "    下面的示例有一个必须的参数、一个可选的关键字参数以及返回值都带有相应的标注:\n",
    "    \"\"\"\n",
    "    print(\"Annotations::\", f.__annotations__)\n",
    "    print(\"Arguments::\", ham, eggs)\n",
    "    return ham + \" and \" + eggs\n",
    "\n",
    "f(\"ham\",\"eggsssss\")"
   ]
  },
  {
   "cell_type": "code",
   "execution_count": null,
   "metadata": {},
   "outputs": [],
   "source": []
  }
 ],
 "metadata": {
  "kernelspec": {
   "display_name": "python-learning",
   "language": "python",
   "name": "python3"
  },
  "language_info": {
   "codemirror_mode": {
    "name": "ipython",
    "version": 3
   },
   "file_extension": ".py",
   "mimetype": "text/x-python",
   "name": "python",
   "nbconvert_exporter": "python",
   "pygments_lexer": "ipython3",
   "version": "3.13.0"
  }
 },
 "nbformat": 4,
 "nbformat_minor": 2
}
